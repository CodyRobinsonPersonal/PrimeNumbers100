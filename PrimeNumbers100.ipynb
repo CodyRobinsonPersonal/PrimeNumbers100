{
 "cells": [
  {
   "cell_type": "markdown",
   "metadata": {},
   "source": [
    "**Import statments**"
   ]
  },
  {
   "cell_type": "code",
   "execution_count": 1,
   "metadata": {},
   "outputs": [],
   "source": [
    "import math\n",
    "import tabulate\n",
    "from IPython.display import HTML, display"
   ]
  },
  {
   "cell_type": "markdown",
   "metadata": {},
   "source": [
    "**Function to check if an odd number is a prime number**"
   ]
  },
  {
   "cell_type": "code",
   "execution_count": 2,
   "metadata": {},
   "outputs": [],
   "source": [
    "def isOddPrime(num):\n",
    "    for i in range(3, int(math.sqrt(num) + 1), 2):\n",
    "        if (num % i) == 0:\n",
    "            return False\n",
    "    return True"
   ]
  },
  {
   "cell_type": "markdown",
   "metadata": {},
   "source": [
    "**Function to get all prime numbers between start and end**"
   ]
  },
  {
   "cell_type": "code",
   "execution_count": 3,
   "metadata": {
    "scrolled": true
   },
   "outputs": [],
   "source": [
    "def getPrimesBetween(start, end):\n",
    "    listOfPrimes = []\n",
    "    if (start <= 2 and end >= 2):\n",
    "        listOfPrimes.append(2)\n",
    "    if (start % 2) == 0:\n",
    "        start += 1\n",
    "    if (start < 2):\n",
    "        start = 3\n",
    "    for i in range (start, end + 1, 2):\n",
    "        if (isOddPrime(i)):\n",
    "            listOfPrimes.append(i)\n",
    "    return listOfPrimes"
   ]
  },
  {
   "cell_type": "markdown",
   "metadata": {},
   "source": [
    "**Function to convert a given list into a 2D list with\n",
    "a given row length**"
   ]
  },
  {
   "cell_type": "code",
   "execution_count": 4,
   "metadata": {},
   "outputs": [],
   "source": [
    "def convertListTo2D(aList, rowLength):\n",
    "    row = 0\n",
    "    table = [[]]\n",
    "    for i in range(len(aList)):\n",
    "        table[row].append(aList[i])\n",
    "        if ((i + 1) % rowLength == 0) and (i != 0) and (i != len(aList) - 1):\n",
    "            row += 1\n",
    "            table.append([])\n",
    "    return table"
   ]
  },
  {
   "cell_type": "markdown",
   "metadata": {},
   "source": [
    "**The below code gets all the prime numbers between 1 and 100 and outputs them in a html table**"
   ]
  },
  {
   "cell_type": "code",
   "execution_count": 5,
   "metadata": {},
   "outputs": [
    {
     "data": {
      "text/html": [
       "<h1>Prime numbers between 1 and 100:</h1>"
      ],
      "text/plain": [
       "<IPython.core.display.HTML object>"
      ]
     },
     "metadata": {},
     "output_type": "display_data"
    },
    {
     "data": {
      "text/html": [
       "<table>\n",
       "<tbody>\n",
       "<tr><td style=\"text-align: right;\"> 2</td><td style=\"text-align: right;\"> 3</td><td style=\"text-align: right;\"> 5</td><td style=\"text-align: right;\"> 7</td><td style=\"text-align: right;\">11</td></tr>\n",
       "<tr><td style=\"text-align: right;\">13</td><td style=\"text-align: right;\">17</td><td style=\"text-align: right;\">19</td><td style=\"text-align: right;\">23</td><td style=\"text-align: right;\">29</td></tr>\n",
       "<tr><td style=\"text-align: right;\">31</td><td style=\"text-align: right;\">37</td><td style=\"text-align: right;\">41</td><td style=\"text-align: right;\">43</td><td style=\"text-align: right;\">47</td></tr>\n",
       "<tr><td style=\"text-align: right;\">53</td><td style=\"text-align: right;\">59</td><td style=\"text-align: right;\">61</td><td style=\"text-align: right;\">67</td><td style=\"text-align: right;\">71</td></tr>\n",
       "<tr><td style=\"text-align: right;\">73</td><td style=\"text-align: right;\">79</td><td style=\"text-align: right;\">83</td><td style=\"text-align: right;\">89</td><td style=\"text-align: right;\">97</td></tr>\n",
       "</tbody>\n",
       "</table>"
      ],
      "text/plain": [
       "<IPython.core.display.HTML object>"
      ]
     },
     "metadata": {},
     "output_type": "display_data"
    }
   ],
   "source": [
    "start = 1\n",
    "end = 100\n",
    "primes = getPrimesBetween(start, end)\n",
    "\n",
    "# Output\n",
    "primes2D = convertListTo2D(primes, 5)\n",
    "display(HTML(f\"<h1>Prime numbers between {start} and {end}:</h1>\"))\n",
    "display(HTML(tabulate.tabulate(primes2D, tablefmt='html')))"
   ]
  }
 ],
 "metadata": {
  "kernelspec": {
   "display_name": "Python 3",
   "language": "python",
   "name": "python3"
  },
  "language_info": {
   "codemirror_mode": {
    "name": "ipython",
    "version": 3
   },
   "file_extension": ".py",
   "mimetype": "text/x-python",
   "name": "python",
   "nbconvert_exporter": "python",
   "pygments_lexer": "ipython3",
   "version": "3.9.0"
  }
 },
 "nbformat": 4,
 "nbformat_minor": 4
}
